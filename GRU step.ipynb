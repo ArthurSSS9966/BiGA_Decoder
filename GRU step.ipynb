{
 "cells": [
  {
   "cell_type": "code",
   "execution_count": 1,
   "metadata": {},
   "outputs": [],
   "source": [
    "import torch\n",
    "import torch.nn as nn\n",
    "import torch.nn.functional as func\n",
    "import random\n",
    "from tqdm import tqdm\n",
    "import numpy as np\n",
    "from GRUnet import InitGRU, KalmanNetNN"
   ]
  },
  {
   "cell_type": "code",
   "execution_count": 6,
   "metadata": {},
   "outputs": [],
   "source": [
    "# training params\n",
    "N_E = 50                                                # total samples\n",
    "N_Epochs = 20                                           # epochs\n",
    "train_split = 0.8                                       # train_cv_split\n",
    "train_samples = int(train_split*N_E)                    # number of training samples\n",
    "N_B = train_samples                                     # batch size, default full batch\n",
    "loss_fn = nn.MSELoss()                                  # loss function\n",
    "N_CV = N_E - train_samples                              # number of cv samples\n",
    "learningRate = 1e-4                                     # learning rate\n",
    "weightDecay = 1e-5                                      # regularizer, for optimizer"
   ]
  },
  {
   "cell_type": "code",
   "execution_count": null,
   "metadata": {},
   "outputs": [],
   "source": [
    "# data input\n",
    "A =                                                     # latest A\n",
    "C =                                                     # latest C\n",
    "yt =                                                    # shape: [ n_samples : timesteps : spikes dimensions ]  y t\n",
    "latent_states =                                         # shape: [ n_samples : timesteps : states dimensions ]  x t|t-1"
   ]
  },
  {
   "cell_type": "code",
   "execution_count": 7,
   "metadata": {},
   "outputs": [],
   "source": [
    "# initialize model\n",
    "m=5                                                     # states dimensions\n",
    "n=182                                                   # spikes dimensions\n",
    "T = 20                                                  # time steps\n",
    "F = torch.tensor(A).float()                             # A_values\n",
    "H = torch.tensor(C).float()                             # C_values\n",
    "K0 = torch.tensor(np.random.rand(m,n)).float()          # KalmanGain at t0, not used for now\n",
    "\n",
    "initGRU = InitGRU(F,H,K0,m,n,T)"
   ]
  },
  {
   "cell_type": "code",
   "execution_count": 9,
   "metadata": {},
   "outputs": [],
   "source": [
    "# data\n",
    "train_input = torch.tensor(yt).float()                          \n",
    "all_target = torch.tensor(latent_states).float()                \n",
    "all_target_t0 = torch.tensor(latent_states[:,0,:]).float()      # shape: [ n_samples : states dimensions ]              x 1|0"
   ]
  },
  {
   "cell_type": "code",
   "execution_count": 10,
   "metadata": {},
   "outputs": [],
   "source": [
    "# train validation split\n",
    "random.seed(42)\n",
    "train_index = random.sample(range(N_E), train_samples)\n",
    "cv_index = list(set(range(50)) - set(train_index))\n",
    "\n",
    "y_training = train_input[train_index].clone()\n",
    "y_training_cv = train_input[cv_index].clone()\n",
    "train_target = all_target[train_index].clone()\n",
    "cv_target = all_target[cv_index].clone()\n",
    "latent_states_t0_train = all_target_t0[train_index].clone()\n",
    "latent_states_t0_cv = all_target_t0[cv_index].clone()"
   ]
  },
  {
   "cell_type": "code",
   "execution_count": 11,
   "metadata": {},
   "outputs": [],
   "source": [
    "kn = KalmanNetNN()\n",
    "kn.Build(initGRU)"
   ]
  },
  {
   "cell_type": "code",
   "execution_count": 12,
   "metadata": {},
   "outputs": [],
   "source": [
    "optimizer = torch.optim.Adam(kn.parameters(), lr=learningRate, weight_decay=weightDecay)                                 "
   ]
  },
  {
   "cell_type": "code",
   "execution_count": 14,
   "metadata": {},
   "outputs": [],
   "source": [
    "# save MSE\n",
    "MSE_cv_linear_batch = torch.empty([N_CV])\n",
    "MSE_cv_linear_epoch = torch.empty([N_Epochs])\n",
    "MSE_cv_dB_epoch = torch.empty([N_Epochs])\n",
    "MSE_train_linear_batch = torch.empty([N_B])\n",
    "MSE_train_linear_epoch = torch.empty([N_Epochs])\n",
    "MSE_train_dB_epoch = torch.empty([N_Epochs])"
   ]
  },
  {
   "cell_type": "code",
   "execution_count": 15,
   "metadata": {},
   "outputs": [
    {
     "name": "stderr",
     "output_type": "stream",
     "text": [
      "validation: 100%|██████████| 10/10 [01:02<00:00,  6.28s/it]\n"
     ]
    },
    {
     "name": "stdout",
     "output_type": "stream",
     "text": [
      "0 MSE cv : tensor(909782.3750)\n"
     ]
    },
    {
     "name": "stderr",
     "output_type": "stream",
     "text": [
      "training_samples: 100%|██████████| 40/40 [03:41<00:00,  5.54s/it]\n"
     ]
    },
    {
     "name": "stdout",
     "output_type": "stream",
     "text": [
      "0 MSE Training : tensor(1735658.2500)\n"
     ]
    },
    {
     "name": "stderr",
     "output_type": "stream",
     "text": [
      "validation: 100%|██████████| 10/10 [00:56<00:00,  5.61s/it]\n"
     ]
    },
    {
     "name": "stdout",
     "output_type": "stream",
     "text": [
      "1 MSE cv : tensor(228.3479)\n"
     ]
    },
    {
     "name": "stderr",
     "output_type": "stream",
     "text": [
      "training_samples: 100%|██████████| 40/40 [03:43<00:00,  5.59s/it]\n"
     ]
    },
    {
     "name": "stdout",
     "output_type": "stream",
     "text": [
      "1 MSE Training : tensor(163.5904)\n"
     ]
    }
   ],
   "source": [
    "x_out_cv = torch.empty(N_CV,initGRU.m, initGRU.T)\n",
    "\n",
    "for i in range(N_Epochs):\n",
    "    # validation\n",
    "    for c in tqdm(range(0, N_CV),desc='validation'):\n",
    "        y_cv = y_training_cv[c, :, :]\n",
    "        kn.InitSequence(latent_states_t0_cv[c])\n",
    "\n",
    "        for t in range(0, initGRU.T):\n",
    "            x_out_cv[c,:, t] = kn(y_cv[t,:])\n",
    "\n",
    "        # Compute validation Loss\n",
    "        MSE_cv_linear_batch[c] = loss_fn(x_out_cv[c], cv_target[c, :].T).item()\n",
    "    # Average\n",
    "    MSE_cv_linear_epoch[i] = torch.mean(MSE_cv_linear_batch)\n",
    "    MSE_cv_dB_epoch[i] = 10 * torch.log10(MSE_cv_linear_epoch[i])\n",
    "    print(i, \"MSE cv :\", MSE_cv_linear_epoch[i])\n",
    "\n",
    "    # training\n",
    "    kn.train()\n",
    "    kn.init_hidden()\n",
    "    Batch_Optimizing_LOSS_sum = 0\n",
    "    spike_loss = torch.empty([train_samples,initGRU.T,initGRU.n])\n",
    "    for j in tqdm(range(0, N_B),desc='training_samples'):\n",
    "        if N_B == train_samples:\n",
    "            n_e = j\n",
    "        else:\n",
    "            n_e = random.randint(0, N_E - 1)\n",
    "        kn.InitSequence(latent_states_t0_train[n_e])\n",
    "\n",
    "        x_out_training = torch.empty(initGRU.m, initGRU.T)\n",
    "        \n",
    "        for t in range(0, T):\n",
    "            x_out_training[:, t] = kn(y_training[n_e,t,:])\n",
    "            spike_loss[n_e,t,:] = kn.m1y\n",
    "        # Compute Training Loss\n",
    "        LOSS = loss_fn(x_out_training, train_target[n_e].T)\n",
    "        MSE_train_linear_batch[n_e] = LOSS.item()\n",
    "\n",
    "        Batch_Optimizing_LOSS_sum = Batch_Optimizing_LOSS_sum + LOSS\n",
    "\n",
    "    MSE_train_linear_epoch[i] = torch.mean(MSE_train_linear_batch)\n",
    "    MSE_train_dB_epoch[i] = 10 * torch.log10(MSE_train_linear_epoch[i])\n",
    "\n",
    "    optimizer.zero_grad()\n",
    "    Batch_Optimizing_LOSS_mean = Batch_Optimizing_LOSS_sum / N_B\n",
    "    Batch_Optimizing_LOSS_mean.backward()\n",
    "    optimizer.step()\n",
    "    print(i, \"MSE Training :\", MSE_train_linear_epoch[i])"
   ]
  },
  {
   "cell_type": "code",
   "execution_count": 51,
   "metadata": {},
   "outputs": [
    {
     "data": {
      "text/plain": [
       "[<matplotlib.lines.Line2D at 0x1ba83500a00>]"
      ]
     },
     "execution_count": 51,
     "metadata": {},
     "output_type": "execute_result"
    },
    {
     "data": {
      "image/png": "[encoded data removed]",
      "text/plain": [
       "<Figure size 640x480 with 1 Axes>"
      ]
     },
     "metadata": {},
     "output_type": "display_data"
    }
   ],
   "source": [
    "plt.plot(MSE_cv_linear_epoch)"
   ]
  },
  {
   "cell_type": "code",
   "execution_count": 36,
   "metadata": {},
   "outputs": [
    {
     "data": {
      "text/plain": [
       "torch.Size([5, 20])"
      ]
     },
     "execution_count": 36,
     "metadata": {},
     "output_type": "execute_result"
    }
   ],
   "source": [
    "# output of validation set\n",
    "x_out_cv.shape"
   ]
  },
  {
   "cell_type": "code",
   "execution_count": 32,
   "metadata": {},
   "outputs": [
    {
     "data": {
      "text/plain": [
       "2.7984452"
      ]
     },
     "execution_count": 32,
     "metadata": {},
     "output_type": "execute_result"
    }
   ],
   "source": [
    "# NRMSE for training spikes : lastest epoch\n",
    "np.sqrt(np.mean((spike_loss.detach() - y_training).numpy() ** 2)) / np.sqrt(np.var(y_training.numpy()))"
   ]
  }
 ],
 "metadata": {
  "kernelspec": {
   "display_name": "base",
   "language": "python",
   "name": "python3"
  },
  "language_info": {
   "codemirror_mode": {
    "name": "ipython",
    "version": 3
   },
   "file_extension": ".py",
   "mimetype": "text/x-python",
   "name": "python",
   "nbconvert_exporter": "python",
   "pygments_lexer": "ipython3",
   "version": "3.10.9"
  },
  "orig_nbformat": 4
 },
 "nbformat": 4,
 "nbformat_minor": 2
}
