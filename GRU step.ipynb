{
 "cells": [
  {
   "cell_type": "code",
   "execution_count": 1,
   "metadata": {},
   "outputs": [],
   "source": [
    "import torch\n",
    "import torch.nn as nn\n",
    "import torch.nn.functional as func\n",
    "import random\n",
    "from tqdm import tqdm\n",
    "import numpy as np\n",
    "from GRUnet import InitGRU, KalmanNetNN"
   ]
  },
  {
   "cell_type": "code",
   "execution_count": 2,
   "metadata": {},
   "outputs": [
    {
     "name": "stdout",
     "output_type": "stream",
     "text": [
      "Importing dataset took 15.145029783248901 seconds\n",
      "Number of all 0 columns: 0\n",
      "Running EM algorithm...\n"
     ]
    },
    {
     "name": "stderr",
     "output_type": "stream",
     "text": [
      "EM iteration:  15%|███▌                    | 292/2000 [14:36<1:20:07,  2.81s/it]"
     ]
    },
    {
     "name": "stdout",
     "output_type": "stream",
     "text": [
      "Error: Data likelihood has decreased from 195551.49791242342 to 195090.29549154098 \n",
      "\n"
     ]
    },
    {
     "name": "stderr",
     "output_type": "stream",
     "text": [
      "/Users/leskywalker/Documents/EE689/project/Code/EM.py:179: RuntimeWarning: invalid value encountered in log\n",
      "  term3 = -0.5 * np.log(det_K)\n",
      "EM iteration:  16%|███▋                    | 312/2000 [15:33<1:17:41,  2.76s/it]/Users/leskywalker/Documents/EE689/project/Code/EM.py:178: RuntimeWarning: invalid value encountered in log\n",
      "  term1 = -0.5 * T * np.log(det_R)\n",
      "EM iteration:  16%|███▊                    | 322/2000 [16:02<1:23:36,  2.99s/it]"
     ]
    },
    {
     "name": "stdout",
     "output_type": "stream",
     "text": [
      "Error: Data likelihood has decreased from 199655.37163709447 to 199050.13745538244 \n",
      "\n"
     ]
    },
    {
     "name": "stderr",
     "output_type": "stream",
     "text": [
      "EM iteration:  18%|████▎                   | 357/2000 [17:44<1:16:17,  2.79s/it]"
     ]
    },
    {
     "name": "stdout",
     "output_type": "stream",
     "text": [
      "Error: Data likelihood has decreased from 199575.1784013099 to 199569.2641769659 \n",
      "\n"
     ]
    },
    {
     "name": "stderr",
     "output_type": "stream",
     "text": [
      "EM iteration:  18%|████▎                   | 363/2000 [18:02<1:22:42,  3.03s/it]"
     ]
    },
    {
     "name": "stdout",
     "output_type": "stream",
     "text": [
      "Error: Data likelihood has decreased from 200158.06185081115 to 199808.53574202914 \n",
      "\n"
     ]
    },
    {
     "name": "stderr",
     "output_type": "stream",
     "text": [
      "\r",
      "EM iteration:  18%|████▎                   | 364/2000 [18:05<1:24:04,  3.08s/it]"
     ]
    },
    {
     "name": "stdout",
     "output_type": "stream",
     "text": [
      "Error: Data likelihood has decreased from 199808.53574202914 to 198255.19093879423 \n",
      "\n"
     ]
    },
    {
     "name": "stderr",
     "output_type": "stream",
     "text": [
      "EM iteration:  18%|████▍                   | 369/2000 [18:21<1:25:59,  3.16s/it]"
     ]
    },
    {
     "name": "stdout",
     "output_type": "stream",
     "text": [
      "Error: Data likelihood has decreased from 200458.64034207867 to 199383.92347213835 \n",
      "\n"
     ]
    },
    {
     "name": "stderr",
     "output_type": "stream",
     "text": [
      "\r",
      "EM iteration:  18%|████▍                   | 370/2000 [18:25<1:35:23,  3.51s/it]"
     ]
    },
    {
     "name": "stdout",
     "output_type": "stream",
     "text": [
      "Error: Data likelihood has decreased from 199383.92347213835 to 198785.78368780727 \n",
      "\n"
     ]
    },
    {
     "name": "stderr",
     "output_type": "stream",
     "text": [
      "\r",
      "EM iteration:  19%|████▍                   | 371/2000 [18:28<1:29:24,  3.29s/it]"
     ]
    },
    {
     "name": "stdout",
     "output_type": "stream",
     "text": [
      "Error: Data likelihood has decreased from 198785.78368780727 to 198115.93272930325 \n",
      "\n"
     ]
    },
    {
     "name": "stderr",
     "output_type": "stream",
     "text": [
      "EM iteration:  29%|██████▉                 | 575/2000 [28:49<1:13:20,  3.09s/it]"
     ]
    },
    {
     "name": "stdout",
     "output_type": "stream",
     "text": [
      "Error: Data likelihood has decreased from 173176.4582172521 to 170197.93735058833 \n",
      "\n"
     ]
    },
    {
     "name": "stderr",
     "output_type": "stream",
     "text": [
      "EM iteration:  40%|████████▉             | 808/2000 [1:05:26<1:03:37,  3.20s/it]"
     ]
    },
    {
     "name": "stdout",
     "output_type": "stream",
     "text": [
      "Error: Data likelihood has decreased from 190981.01979323692 to 189277.11496002783 \n",
      "\n"
     ]
    },
    {
     "name": "stderr",
     "output_type": "stream",
     "text": [
      "EM iteration:  41%|█████████▊              | 813/2000 [1:05:41<59:05,  2.99s/it]"
     ]
    },
    {
     "name": "stdout",
     "output_type": "stream",
     "text": [
      "Error: Data likelihood has decreased from 190958.39221317883 to 189543.60361241028 \n",
      "\n"
     ]
    },
    {
     "name": "stderr",
     "output_type": "stream",
     "text": [
      "EM iteration:  41%|█████████▊              | 814/2000 [1:05:44<58:09,  2.94s/it]/Users/leskywalker/Documents/EE689/project/Code/EM.py:181: RuntimeWarning: invalid value encountered in log\n",
      "  term5 = -0.5 * (T - 1) * np.log(det_Q)\n",
      "EM iteration:  44%|██████████▌             | 885/2000 [1:09:23<55:14,  2.97s/it]/Users/leskywalker/anaconda3/envs/ee689/lib/python3.11/site-packages/numpy/linalg/linalg.py:2180: RuntimeWarning: overflow encountered in det\n",
      "  r = _umath_linalg.det(a, signature=signature)\n",
      "EM iteration: 100%|███████████████████████| 2000/2000 [2:07:16<00:00,  3.82s/it]\n"
     ]
    },
    {
     "data": {
      "image/png": "[encoded data removed]",
      "text/plain": [
       "<Figure size 640x480 with 1 Axes>"
      ]
     },
     "metadata": {},
     "output_type": "display_data"
    },
    {
     "name": "stdout",
     "output_type": "stream",
     "text": [
      "EM algorithm finished in 7636.086703777313 seconds\n",
      "Calculating Latent States...\n",
      "Prediction finished in 0.6170759201049805 seconds\n",
      "Running One step ahead prediction...\n",
      "Running One step ahead prediction...\n",
      "Running One step ahead prediction...\n",
      "Running One step ahead prediction...\n",
      "Running One step ahead prediction...\n",
      "Running One step ahead prediction...\n",
      "Running One step ahead prediction...\n",
      "Running One step ahead prediction...\n",
      "Running One step ahead prediction...\n",
      "Running One step ahead prediction...\n",
      "Running One step ahead prediction...\n",
      "Running One step ahead prediction...\n",
      "Running One step ahead prediction...\n",
      "Running One step ahead prediction...\n",
      "Running One step ahead prediction...\n",
      "Running One step ahead prediction...\n",
      "Running One step ahead prediction...\n",
      "Running One step ahead prediction...\n",
      "Running One step ahead prediction...\n",
      "Running One step ahead prediction...\n"
     ]
    },
    {
     "data": {
      "image/png": "[encoded data removed]",
      "text/plain": [
       "<Figure size 640x480 with 1 Axes>"
      ]
     },
     "metadata": {},
     "output_type": "display_data"
    },
    {
     "name": "stdout",
     "output_type": "stream",
     "text": [
      "Calculating Latent States...\n",
      "Prediction finished in 2.2283856868743896 seconds\n"
     ]
    },
    {
     "ename": "ValueError",
     "evalue": "\nAll the 15 fits failed.\nIt is very likely that your model is misconfigured.\nYou can try to debug the error by setting error_score='raise'.\n\nBelow are more details about the failures:\n--------------------------------------------------------------------------------\n15 fits failed with the following error:\nTraceback (most recent call last):\n  File \"/Users/leskywalker/anaconda3/envs/ee689/lib/python3.11/site-packages/sklearn/model_selection/_validation.py\", line 729, in _fit_and_score\n    estimator.fit(X_train, y_train, **fit_params)\n  File \"/Users/leskywalker/anaconda3/envs/ee689/lib/python3.11/site-packages/sklearn/base.py\", line 1152, in wrapper\n    return fit_method(estimator, *args, **kwargs)\n           ^^^^^^^^^^^^^^^^^^^^^^^^^^^^^^^^^^^^^^\n  File \"/Users/leskywalker/anaconda3/envs/ee689/lib/python3.11/site-packages/sklearn/linear_model/_ridge.py\", line 1123, in fit\n    X, y = self._validate_data(\n           ^^^^^^^^^^^^^^^^^^^^\n  File \"/Users/leskywalker/anaconda3/envs/ee689/lib/python3.11/site-packages/sklearn/base.py\", line 622, in _validate_data\n    X, y = check_X_y(X, y, **check_params)\n           ^^^^^^^^^^^^^^^^^^^^^^^^^^^^^^^\n  File \"/Users/leskywalker/anaconda3/envs/ee689/lib/python3.11/site-packages/sklearn/utils/validation.py\", line 1146, in check_X_y\n    X = check_array(\n        ^^^^^^^^^^^^\n  File \"/Users/leskywalker/anaconda3/envs/ee689/lib/python3.11/site-packages/sklearn/utils/validation.py\", line 957, in check_array\n    _assert_all_finite(\n  File \"/Users/leskywalker/anaconda3/envs/ee689/lib/python3.11/site-packages/sklearn/utils/validation.py\", line 122, in _assert_all_finite\n    _assert_all_finite_element_wise(\n  File \"/Users/leskywalker/anaconda3/envs/ee689/lib/python3.11/site-packages/sklearn/utils/validation.py\", line 171, in _assert_all_finite_element_wise\n    raise ValueError(msg_err)\nValueError: Input X contains NaN.\nRidge does not accept missing values encoded as NaN natively. For supervised learning, you might want to consider sklearn.ensemble.HistGradientBoostingClassifier and Regressor which accept missing values encoded as NaNs natively. Alternatively, it is possible to preprocess the data, for instance by using an imputer transformer in a pipeline or drop samples with missing values. See https://scikit-learn.org/stable/modules/impute.html You can find a list of all estimators that handle NaN values at the following page: https://scikit-learn.org/stable/modules/impute.html#estimators-that-handle-nan-values\n",
     "output_type": "error",
     "traceback": [
      "\u001b[0;31m---------------------------------------------------------------------------\u001b[0m",
      "\u001b[0;31mValueError\u001b[0m                                Traceback (most recent call last)",
      "Cell \u001b[0;32mIn[2], line 59\u001b[0m\n\u001b[1;32m     56\u001b[0m plt\u001b[38;5;241m.\u001b[39mlegend([\u001b[38;5;124m'\u001b[39m\u001b[38;5;124mPredicted\u001b[39m\u001b[38;5;124m'\u001b[39m, \u001b[38;5;124m'\u001b[39m\u001b[38;5;124mTrue\u001b[39m\u001b[38;5;124m'\u001b[39m])\n\u001b[1;32m     57\u001b[0m plt\u001b[38;5;241m.\u001b[39mshow()\n\u001b[0;32m---> 59\u001b[0m EM_class\u001b[38;5;241m.\u001b[39mfit(X, Y)\n\u001b[1;32m     61\u001b[0m \u001b[38;5;66;03m# Predict the hand velocity\u001b[39;00m\n\u001b[1;32m     62\u001b[0m hand_velocity \u001b[38;5;241m=\u001b[39m np\u001b[38;5;241m.\u001b[39marray([EM_class\u001b[38;5;241m.\u001b[39mpredict_move(X_test[i]) \u001b[38;5;28;01mfor\u001b[39;00m i \u001b[38;5;129;01min\u001b[39;00m \u001b[38;5;28mrange\u001b[39m(X_test\u001b[38;5;241m.\u001b[39mshape[\u001b[38;5;241m0\u001b[39m])])\n",
      "File \u001b[0;32m~/Documents/EE689/project/Code/EM.py:145\u001b[0m, in \u001b[0;36mem_core.fit\u001b[0;34m(self, spike_data, move, **kwargs)\u001b[0m\n\u001b[1;32m    143\u001b[0m move \u001b[38;5;241m=\u001b[39m np\u001b[38;5;241m.\u001b[39marray([move[i] \u001b[38;5;28;01mfor\u001b[39;00m i \u001b[38;5;129;01min\u001b[39;00m \u001b[38;5;28mrange\u001b[39m(\u001b[38;5;28mlen\u001b[39m(move))])\n\u001b[1;32m    144\u001b[0m move \u001b[38;5;241m=\u001b[39m move\u001b[38;5;241m.\u001b[39mreshape(\u001b[38;5;241m-\u001b[39m\u001b[38;5;241m1\u001b[39m, move\u001b[38;5;241m.\u001b[39mshape[\u001b[38;5;241m-\u001b[39m\u001b[38;5;241m1\u001b[39m])\n\u001b[0;32m--> 145\u001b[0m \u001b[38;5;28mself\u001b[39m\u001b[38;5;241m.\u001b[39mmodel\u001b[38;5;241m.\u001b[39mfit(x_latent, move)\n",
      "File \u001b[0;32m~/anaconda3/envs/ee689/lib/python3.11/site-packages/sklearn/base.py:1152\u001b[0m, in \u001b[0;36m_fit_context.<locals>.decorator.<locals>.wrapper\u001b[0;34m(estimator, *args, **kwargs)\u001b[0m\n\u001b[1;32m   1145\u001b[0m     estimator\u001b[38;5;241m.\u001b[39m_validate_params()\n\u001b[1;32m   1147\u001b[0m \u001b[38;5;28;01mwith\u001b[39;00m config_context(\n\u001b[1;32m   1148\u001b[0m     skip_parameter_validation\u001b[38;5;241m=\u001b[39m(\n\u001b[1;32m   1149\u001b[0m         prefer_skip_nested_validation \u001b[38;5;129;01mor\u001b[39;00m global_skip_validation\n\u001b[1;32m   1150\u001b[0m     )\n\u001b[1;32m   1151\u001b[0m ):\n\u001b[0;32m-> 1152\u001b[0m     \u001b[38;5;28;01mreturn\u001b[39;00m fit_method(estimator, \u001b[38;5;241m*\u001b[39margs, \u001b[38;5;241m*\u001b[39m\u001b[38;5;241m*\u001b[39mkwargs)\n",
      "File \u001b[0;32m~/anaconda3/envs/ee689/lib/python3.11/site-packages/sklearn/model_selection/_search.py:898\u001b[0m, in \u001b[0;36mBaseSearchCV.fit\u001b[0;34m(self, X, y, groups, **fit_params)\u001b[0m\n\u001b[1;32m    892\u001b[0m     results \u001b[38;5;241m=\u001b[39m \u001b[38;5;28mself\u001b[39m\u001b[38;5;241m.\u001b[39m_format_results(\n\u001b[1;32m    893\u001b[0m         all_candidate_params, n_splits, all_out, all_more_results\n\u001b[1;32m    894\u001b[0m     )\n\u001b[1;32m    896\u001b[0m     \u001b[38;5;28;01mreturn\u001b[39;00m results\n\u001b[0;32m--> 898\u001b[0m \u001b[38;5;28mself\u001b[39m\u001b[38;5;241m.\u001b[39m_run_search(evaluate_candidates)\n\u001b[1;32m    900\u001b[0m \u001b[38;5;66;03m# multimetric is determined here because in the case of a callable\u001b[39;00m\n\u001b[1;32m    901\u001b[0m \u001b[38;5;66;03m# self.scoring the return type is only known after calling\u001b[39;00m\n\u001b[1;32m    902\u001b[0m first_test_score \u001b[38;5;241m=\u001b[39m all_out[\u001b[38;5;241m0\u001b[39m][\u001b[38;5;124m\"\u001b[39m\u001b[38;5;124mtest_scores\u001b[39m\u001b[38;5;124m\"\u001b[39m]\n",
      "File \u001b[0;32m~/anaconda3/envs/ee689/lib/python3.11/site-packages/sklearn/model_selection/_search.py:1422\u001b[0m, in \u001b[0;36mGridSearchCV._run_search\u001b[0;34m(self, evaluate_candidates)\u001b[0m\n\u001b[1;32m   1420\u001b[0m \u001b[38;5;28;01mdef\u001b[39;00m \u001b[38;5;21m_run_search\u001b[39m(\u001b[38;5;28mself\u001b[39m, evaluate_candidates):\n\u001b[1;32m   1421\u001b[0m \u001b[38;5;250m    \u001b[39m\u001b[38;5;124;03m\"\"\"Search all candidates in param_grid\"\"\"\u001b[39;00m\n\u001b[0;32m-> 1422\u001b[0m     evaluate_candidates(ParameterGrid(\u001b[38;5;28mself\u001b[39m\u001b[38;5;241m.\u001b[39mparam_grid))\n",
      "File \u001b[0;32m~/anaconda3/envs/ee689/lib/python3.11/site-packages/sklearn/model_selection/_search.py:875\u001b[0m, in \u001b[0;36mBaseSearchCV.fit.<locals>.evaluate_candidates\u001b[0;34m(candidate_params, cv, more_results)\u001b[0m\n\u001b[1;32m    868\u001b[0m \u001b[38;5;28;01melif\u001b[39;00m \u001b[38;5;28mlen\u001b[39m(out) \u001b[38;5;241m!=\u001b[39m n_candidates \u001b[38;5;241m*\u001b[39m n_splits:\n\u001b[1;32m    869\u001b[0m     \u001b[38;5;28;01mraise\u001b[39;00m \u001b[38;5;167;01mValueError\u001b[39;00m(\n\u001b[1;32m    870\u001b[0m         \u001b[38;5;124m\"\u001b[39m\u001b[38;5;124mcv.split and cv.get_n_splits returned \u001b[39m\u001b[38;5;124m\"\u001b[39m\n\u001b[1;32m    871\u001b[0m         \u001b[38;5;124m\"\u001b[39m\u001b[38;5;124minconsistent results. Expected \u001b[39m\u001b[38;5;132;01m{}\u001b[39;00m\u001b[38;5;124m \u001b[39m\u001b[38;5;124m\"\u001b[39m\n\u001b[1;32m    872\u001b[0m         \u001b[38;5;124m\"\u001b[39m\u001b[38;5;124msplits, got \u001b[39m\u001b[38;5;132;01m{}\u001b[39;00m\u001b[38;5;124m\"\u001b[39m\u001b[38;5;241m.\u001b[39mformat(n_splits, \u001b[38;5;28mlen\u001b[39m(out) \u001b[38;5;241m/\u001b[39m\u001b[38;5;241m/\u001b[39m n_candidates)\n\u001b[1;32m    873\u001b[0m     )\n\u001b[0;32m--> 875\u001b[0m _warn_or_raise_about_fit_failures(out, \u001b[38;5;28mself\u001b[39m\u001b[38;5;241m.\u001b[39merror_score)\n\u001b[1;32m    877\u001b[0m \u001b[38;5;66;03m# For callable self.scoring, the return type is only know after\u001b[39;00m\n\u001b[1;32m    878\u001b[0m \u001b[38;5;66;03m# calling. If the return type is a dictionary, the error scores\u001b[39;00m\n\u001b[1;32m    879\u001b[0m \u001b[38;5;66;03m# can now be inserted with the correct key. The type checking\u001b[39;00m\n\u001b[1;32m    880\u001b[0m \u001b[38;5;66;03m# of out will be done in `_insert_error_scores`.\u001b[39;00m\n\u001b[1;32m    881\u001b[0m \u001b[38;5;28;01mif\u001b[39;00m \u001b[38;5;28mcallable\u001b[39m(\u001b[38;5;28mself\u001b[39m\u001b[38;5;241m.\u001b[39mscoring):\n",
      "File \u001b[0;32m~/anaconda3/envs/ee689/lib/python3.11/site-packages/sklearn/model_selection/_validation.py:414\u001b[0m, in \u001b[0;36m_warn_or_raise_about_fit_failures\u001b[0;34m(results, error_score)\u001b[0m\n\u001b[1;32m    407\u001b[0m \u001b[38;5;28;01mif\u001b[39;00m num_failed_fits \u001b[38;5;241m==\u001b[39m num_fits:\n\u001b[1;32m    408\u001b[0m     all_fits_failed_message \u001b[38;5;241m=\u001b[39m (\n\u001b[1;32m    409\u001b[0m         \u001b[38;5;124mf\u001b[39m\u001b[38;5;124m\"\u001b[39m\u001b[38;5;130;01m\\n\u001b[39;00m\u001b[38;5;124mAll the \u001b[39m\u001b[38;5;132;01m{\u001b[39;00mnum_fits\u001b[38;5;132;01m}\u001b[39;00m\u001b[38;5;124m fits failed.\u001b[39m\u001b[38;5;130;01m\\n\u001b[39;00m\u001b[38;5;124m\"\u001b[39m\n\u001b[1;32m    410\u001b[0m         \u001b[38;5;124m\"\u001b[39m\u001b[38;5;124mIt is very likely that your model is misconfigured.\u001b[39m\u001b[38;5;130;01m\\n\u001b[39;00m\u001b[38;5;124m\"\u001b[39m\n\u001b[1;32m    411\u001b[0m         \u001b[38;5;124m\"\u001b[39m\u001b[38;5;124mYou can try to debug the error by setting error_score=\u001b[39m\u001b[38;5;124m'\u001b[39m\u001b[38;5;124mraise\u001b[39m\u001b[38;5;124m'\u001b[39m\u001b[38;5;124m.\u001b[39m\u001b[38;5;130;01m\\n\u001b[39;00m\u001b[38;5;130;01m\\n\u001b[39;00m\u001b[38;5;124m\"\u001b[39m\n\u001b[1;32m    412\u001b[0m         \u001b[38;5;124mf\u001b[39m\u001b[38;5;124m\"\u001b[39m\u001b[38;5;124mBelow are more details about the failures:\u001b[39m\u001b[38;5;130;01m\\n\u001b[39;00m\u001b[38;5;132;01m{\u001b[39;00mfit_errors_summary\u001b[38;5;132;01m}\u001b[39;00m\u001b[38;5;124m\"\u001b[39m\n\u001b[1;32m    413\u001b[0m     )\n\u001b[0;32m--> 414\u001b[0m     \u001b[38;5;28;01mraise\u001b[39;00m \u001b[38;5;167;01mValueError\u001b[39;00m(all_fits_failed_message)\n\u001b[1;32m    416\u001b[0m \u001b[38;5;28;01melse\u001b[39;00m:\n\u001b[1;32m    417\u001b[0m     some_fits_failed_message \u001b[38;5;241m=\u001b[39m (\n\u001b[1;32m    418\u001b[0m         \u001b[38;5;124mf\u001b[39m\u001b[38;5;124m\"\u001b[39m\u001b[38;5;130;01m\\n\u001b[39;00m\u001b[38;5;132;01m{\u001b[39;00mnum_failed_fits\u001b[38;5;132;01m}\u001b[39;00m\u001b[38;5;124m fits failed out of a total of \u001b[39m\u001b[38;5;132;01m{\u001b[39;00mnum_fits\u001b[38;5;132;01m}\u001b[39;00m\u001b[38;5;124m.\u001b[39m\u001b[38;5;130;01m\\n\u001b[39;00m\u001b[38;5;124m\"\u001b[39m\n\u001b[1;32m    419\u001b[0m         \u001b[38;5;124m\"\u001b[39m\u001b[38;5;124mThe score on these train-test partitions for these parameters\u001b[39m\u001b[38;5;124m\"\u001b[39m\n\u001b[0;32m   (...)\u001b[0m\n\u001b[1;32m    423\u001b[0m         \u001b[38;5;124mf\u001b[39m\u001b[38;5;124m\"\u001b[39m\u001b[38;5;124mBelow are more details about the failures:\u001b[39m\u001b[38;5;130;01m\\n\u001b[39;00m\u001b[38;5;132;01m{\u001b[39;00mfit_errors_summary\u001b[38;5;132;01m}\u001b[39;00m\u001b[38;5;124m\"\u001b[39m\n\u001b[1;32m    424\u001b[0m     )\n",
      "\u001b[0;31mValueError\u001b[0m: \nAll the 15 fits failed.\nIt is very likely that your model is misconfigured.\nYou can try to debug the error by setting error_score='raise'.\n\nBelow are more details about the failures:\n--------------------------------------------------------------------------------\n15 fits failed with the following error:\nTraceback (most recent call last):\n  File \"/Users/leskywalker/anaconda3/envs/ee689/lib/python3.11/site-packages/sklearn/model_selection/_validation.py\", line 729, in _fit_and_score\n    estimator.fit(X_train, y_train, **fit_params)\n  File \"/Users/leskywalker/anaconda3/envs/ee689/lib/python3.11/site-packages/sklearn/base.py\", line 1152, in wrapper\n    return fit_method(estimator, *args, **kwargs)\n           ^^^^^^^^^^^^^^^^^^^^^^^^^^^^^^^^^^^^^^\n  File \"/Users/leskywalker/anaconda3/envs/ee689/lib/python3.11/site-packages/sklearn/linear_model/_ridge.py\", line 1123, in fit\n    X, y = self._validate_data(\n           ^^^^^^^^^^^^^^^^^^^^\n  File \"/Users/leskywalker/anaconda3/envs/ee689/lib/python3.11/site-packages/sklearn/base.py\", line 622, in _validate_data\n    X, y = check_X_y(X, y, **check_params)\n           ^^^^^^^^^^^^^^^^^^^^^^^^^^^^^^^\n  File \"/Users/leskywalker/anaconda3/envs/ee689/lib/python3.11/site-packages/sklearn/utils/validation.py\", line 1146, in check_X_y\n    X = check_array(\n        ^^^^^^^^^^^^\n  File \"/Users/leskywalker/anaconda3/envs/ee689/lib/python3.11/site-packages/sklearn/utils/validation.py\", line 957, in check_array\n    _assert_all_finite(\n  File \"/Users/leskywalker/anaconda3/envs/ee689/lib/python3.11/site-packages/sklearn/utils/validation.py\", line 122, in _assert_all_finite\n    _assert_all_finite_element_wise(\n  File \"/Users/leskywalker/anaconda3/envs/ee689/lib/python3.11/site-packages/sklearn/utils/validation.py\", line 171, in _assert_all_finite_element_wise\n    raise ValueError(msg_err)\nValueError: Input X contains NaN.\nRidge does not accept missing values encoded as NaN natively. For supervised learning, you might want to consider sklearn.ensemble.HistGradientBoostingClassifier and Regressor which accept missing values encoded as NaNs natively. Alternatively, it is possible to preprocess the data, for instance by using an imputer transformer in a pipeline or drop samples with missing values. See https://scikit-learn.org/stable/modules/impute.html You can find a list of all estimators that handle NaN values at the following page: https://scikit-learn.org/stable/modules/impute.html#estimators-that-handle-nan-values\n"
     ]
    }
   ],
   "source": [
    "import numpy as np\n",
    "import matplotlib.pyplot as plt\n",
    "\n",
    "from util import import_dataset, get_spikes_and_velocity, pre_process_spike, get_surrogate_data, plot_hand_trajectory\n",
    "from EM import em_core\n",
    "\n",
    "if __name__ == '__main__':\n",
    "    train_dataset = import_dataset('Jenkins_train.nwb')\n",
    "\n",
    "    train_spikes, train_velocity = get_spikes_and_velocity(train_dataset, resample_size=5, smooth=True)\n",
    "\n",
    "\n",
    "    train_spikes, train_velocity = pre_process_spike(train_spikes, train_velocity, train_dataset,\n",
    "                                                     window_step=5, overlap=True, window_size=15, smooth=False)\n",
    "\n",
    "    trial_type = train_dataset.trial_info.set_index('trial_type').index.tolist()\n",
    "\n",
    "    # TODO: Examine the PSTHs\n",
    "\n",
    "    # TODO: Plot PSTHs\n",
    "\n",
    "    # Calculate EM #TODO: TEMPORARY CODE\n",
    "    # 1) Generate surrogate data\n",
    "    # 2) Run EM\n",
    "    # 3) Predict latent states\n",
    "    # 4) Predict hand velocity\n",
    "\n",
    "    X, X_test, Y, Y_test, X_label, X_test_label = get_surrogate_data(train_spikes, train_velocity, trial_type, trials=100)\n",
    "\n",
    "    # Run EM\n",
    "    mses = []\n",
    "\n",
    "    EM_class = em_core(X, n_dim=60, n_iters=2000)\n",
    "    EM_class.get_parameters(plot=True)\n",
    "\n",
    "    # TODO: Calculate Latent States for training data and plot to see grouping\n",
    "\n",
    "    # Predict latent states\n",
    "    latent_states = EM_class.cal_latent_states(X_test, current=False)\n",
    "\n",
    "    # One step ahead prediction for spike data\n",
    "    back_predict = np.array([EM_class.get_one_step_ahead_prediction(latent_states[i])\n",
    "                             for i in range(len(latent_states))])\n",
    "\n",
    "    # Combine all trials for back_predict and X_test\n",
    "    back_predict_con = np.array([back_predict[i] for i in range(len(back_predict))])\n",
    "    back_predict_con = back_predict_con.reshape(-1, back_predict_con.shape[-1])\n",
    "    X_test_con = np.array([X_test[i] for i in range(len(X_test))])\n",
    "    X_test_con = X_test_con.reshape(-1, X_test_con.shape[-1])\n",
    "\n",
    "    # Plot back_predict and True value\n",
    "    plt.figure()\n",
    "    plt.plot(back_predict_con[:300, 0:5], label='Predicted', color='red')\n",
    "    plt.plot(X_test_con[:300, 0:5], label='True', color='black')\n",
    "    plt.title('Predicted vs True Spike Data, with dimension ' + str(EM_class.n_dim))\n",
    "    plt.legend(['Predicted', 'True'])\n",
    "    plt.show()\n",
    "\n",
    "    EM_class.fit(X, Y)\n",
    "\n",
    "    # Predict the hand velocity\n",
    "    hand_velocity = np.array([EM_class.predict_move(X_test[i]) for i in range(X_test.shape[0])])\n",
    "\n",
    "    # Calculate RMSE\n",
    "    rmse = np.sqrt(np.mean((X_test - back_predict) ** 2))/np.sqrt(np.var(X_test))\n",
    "    print('NRMSE for spike data:', rmse)\n",
    "\n",
    "    # Calculate RMSE for velocity\n",
    "    rmse_vel = np.sqrt(np.mean((hand_velocity - Y_test) ** 2))/np.sqrt(np.var(Y_test))\n",
    "    print('NRMSE for velocity:', rmse_vel)\n",
    "\n",
    "    # Calculate MSE for a randomized shuffled trial version of hand_velocity\n",
    "    rmse_vel_shuffled = np.sqrt(np.mean((np.random.permutation(hand_velocity) - Y_test) ** 2))/np.sqrt(np.var(Y_test))\n",
    "    print('NRMSE for shuffled velocity:', rmse_vel_shuffled)\n",
    "\n",
    "    # Combine all trials for hand_velocity and Y_test\n",
    "    hand_velocity_con = np.array([hand_velocity[i] for i in range(len(hand_velocity) // 10)])\n",
    "    hand_velocity_con = hand_velocity_con.reshape(-1, hand_velocity_con.shape[-1])\n",
    "    Y_test_con = np.array([Y_test[i] for i in range(len(Y_test) // 10)])\n",
    "    Y_test_con = Y_test_con.reshape(-1, Y_test_con.shape[-1])\n",
    "\n",
    "    # Plot hand_velocity and True value\n",
    "    plt.plot(hand_velocity_con[:, 0], label='Predicted')\n",
    "    plt.plot(Y_test_con[:, 0], label='True')\n",
    "    plt.title('Predicted vs True Hand Velocity, with dimension ' + str(EM_class.n_dim))\n",
    "    plt.legend()\n",
    "    plt.show()\n",
    "\n",
    "    # TODO: Make the plot prettier\n",
    "    fig, ax = plt.subplots()\n",
    "    # Choose random 20 trials index\n",
    "    plot_index = np.random.randint(0, len(Y_test), 50)\n",
    "    for i in plot_index:\n",
    "        # Choose a random trial\n",
    "        plot = plot_hand_trajectory(Y_test[i], hand_velocity[i], ax)\n",
    "    ax.set_title('Predicted vs True Hand Trajectory, with dimension ' + str(EM_class.n_dim))\n",
    "    ax.set_xlabel('X position (mm)')\n",
    "    ax.set_ylabel('Y position (mm)')\n",
    "    ax.legend(['True', 'Predicted'])\n",
    "    plt.show()\n",
    "\n",
    "    # mses.append(mse)\n",
    "    #\n",
    "    # # Plot MSE vs dimension\n",
    "    # plt.plot(np.arange(10, 100, 10), mses)\n",
    "    # plt.title('MSE vs dimension')\n",
    "    # plt.xlabel('Dimension')\n",
    "    # plt.ylabel('MSE')\n",
    "    # plt.show()\n"
   ]
  },
  {
   "cell_type": "code",
   "execution_count": 6,
   "metadata": {},
   "outputs": [],
   "source": [
    "# training params\n",
    "N_E = 100                                                # total samples\n",
    "N_Epochs = 20                                           # epochs\n",
    "train_split = 0.8                                       # train_cv_split\n",
    "train_samples = int(train_split*N_E)                    # number of training samples\n",
    "N_B = train_samples                                     # batch size, default full batch\n",
    "loss_fn = nn.MSELoss()                                  # loss function\n",
    "N_CV = N_E - train_samples                              # number of cv samples\n",
    "learningRate = 1e-5                                     # learning rate\n",
    "weightDecay = 1e-5                                      # regularizer, for optimizer"
   ]
  },
  {
   "cell_type": "code",
   "execution_count": 7,
   "metadata": {},
   "outputs": [
    {
     "data": {
      "text/plain": [
       "(100, 20, 182)"
      ]
     },
     "execution_count": 7,
     "metadata": {},
     "output_type": "execute_result"
    }
   ],
   "source": [
    "X.shape\n"
   ]
  },
  {
   "cell_type": "code",
   "execution_count": 8,
   "metadata": {},
   "outputs": [],
   "source": [
    "# data input\n",
    "A = EM_class.A_values[-1]                                                    # latest A\n",
    "C = EM_class.C_values[-1]                                                     # latest C\n",
    "yt = X                                                   # shape: [ n_samples : timesteps : spikes dimensions ]  y t\n",
    "latent_states = latent_states                                        # shape: [ n_samples : timesteps : states dimensions ]  x t|t-1"
   ]
  },
  {
   "cell_type": "code",
   "execution_count": 9,
   "metadata": {},
   "outputs": [],
   "source": [
    "# initialize model\n",
    "m=10                                                     # states dimensions\n",
    "n=182                                                   # spikes dimensions\n",
    "T = 20                                                  # time steps\n",
    "F = torch.tensor(A).float()                             # A_values\n",
    "H = torch.tensor(C).float()                             # C_values\n",
    "K0 = torch.tensor(np.random.rand(m,n)).float()          # KalmanGain at t0, not used for now\n",
    "\n",
    "initGRU = InitGRU(F,H,K0,m,n,T)"
   ]
  },
  {
   "cell_type": "code",
   "execution_count": 10,
   "metadata": {},
   "outputs": [],
   "source": [
    "# data\n",
    "train_input = torch.tensor(yt).float()                          \n",
    "all_target = torch.tensor(latent_states).float()                \n",
    "all_target_t0 = torch.tensor(latent_states[:,0,:]).float()      # shape: [ n_samples : states dimensions ]              x 1|0"
   ]
  },
  {
   "cell_type": "code",
   "execution_count": 11,
   "metadata": {},
   "outputs": [],
   "source": [
    "# train validation split\n",
    "random.seed(42)\n",
    "train_index = random.sample(range(N_E), train_samples)\n",
    "cv_index = list(set(range(N_E)) - set(train_index))\n",
    "\n",
    "y_training = train_input[train_index].clone()\n",
    "y_training_cv = train_input[cv_index].clone()\n",
    "train_target = all_target[train_index].clone()\n",
    "cv_target = all_target[cv_index].clone()\n",
    "latent_states_t0_train = all_target_t0[train_index].clone()\n",
    "latent_states_t0_cv = all_target_t0[cv_index].clone()"
   ]
  },
  {
   "cell_type": "code",
   "execution_count": 12,
   "metadata": {},
   "outputs": [],
   "source": [
    "kn = KalmanNetNN()\n",
    "kn.Build(initGRU)"
   ]
  },
  {
   "cell_type": "code",
   "execution_count": 13,
   "metadata": {},
   "outputs": [],
   "source": [
    "optimizer = torch.optim.Adam(kn.parameters(), lr=learningRate, weight_decay=weightDecay)                                 "
   ]
  },
  {
   "cell_type": "code",
   "execution_count": 14,
   "metadata": {},
   "outputs": [],
   "source": [
    "# save MSE\n",
    "MSE_cv_linear_batch = torch.empty([N_CV])\n",
    "MSE_cv_linear_epoch = torch.empty([N_Epochs])\n",
    "MSE_cv_dB_epoch = torch.empty([N_Epochs])\n",
    "MSE_train_linear_batch = torch.empty([N_B])\n",
    "MSE_train_linear_epoch = torch.empty([N_Epochs])\n",
    "MSE_train_dB_epoch = torch.empty([N_Epochs])"
   ]
  },
  {
   "cell_type": "code",
   "execution_count": 15,
   "metadata": {},
   "outputs": [
    {
     "name": "stderr",
     "output_type": "stream",
     "text": [
      "validation: 100%|███████████████████████████████| 20/20 [00:11<00:00,  1.67it/s]\n"
     ]
    },
    {
     "name": "stdout",
     "output_type": "stream",
     "text": [
      "0 MSE cv : tensor(357120.2500)\n"
     ]
    },
    {
     "name": "stderr",
     "output_type": "stream",
     "text": [
      "training_samples: 100%|█████████████████████████| 80/80 [00:47<00:00,  1.67it/s]\n"
     ]
    },
    {
     "name": "stdout",
     "output_type": "stream",
     "text": [
      "0 MSE Training : tensor(71496.6406)\n"
     ]
    },
    {
     "name": "stderr",
     "output_type": "stream",
     "text": [
      "validation: 100%|███████████████████████████████| 20/20 [00:12<00:00,  1.61it/s]\n"
     ]
    },
    {
     "name": "stdout",
     "output_type": "stream",
     "text": [
      "1 MSE cv : tensor(527.5370)\n"
     ]
    },
    {
     "name": "stderr",
     "output_type": "stream",
     "text": [
      "training_samples: 100%|█████████████████████████| 80/80 [00:49<00:00,  1.61it/s]\n"
     ]
    },
    {
     "name": "stdout",
     "output_type": "stream",
     "text": [
      "1 MSE Training : tensor(452.0929)\n"
     ]
    },
    {
     "name": "stderr",
     "output_type": "stream",
     "text": [
      "validation: 100%|███████████████████████████████| 20/20 [00:12<00:00,  1.55it/s]\n"
     ]
    },
    {
     "name": "stdout",
     "output_type": "stream",
     "text": [
      "2 MSE cv : tensor(414.4865)\n"
     ]
    },
    {
     "name": "stderr",
     "output_type": "stream",
     "text": [
      "training_samples: 100%|█████████████████████████| 80/80 [00:50<00:00,  1.57it/s]\n"
     ]
    },
    {
     "name": "stdout",
     "output_type": "stream",
     "text": [
      "2 MSE Training : tensor(416.3153)\n"
     ]
    },
    {
     "name": "stderr",
     "output_type": "stream",
     "text": [
      "validation: 100%|███████████████████████████████| 20/20 [00:13<00:00,  1.51it/s]\n"
     ]
    },
    {
     "name": "stdout",
     "output_type": "stream",
     "text": [
      "3 MSE cv : tensor(381.8812)\n"
     ]
    },
    {
     "name": "stderr",
     "output_type": "stream",
     "text": [
      "training_samples: 100%|█████████████████████████| 80/80 [00:50<00:00,  1.57it/s]\n"
     ]
    },
    {
     "name": "stdout",
     "output_type": "stream",
     "text": [
      "3 MSE Training : tensor(405.7856)\n"
     ]
    },
    {
     "name": "stderr",
     "output_type": "stream",
     "text": [
      "validation: 100%|███████████████████████████████| 20/20 [00:12<00:00,  1.54it/s]\n"
     ]
    },
    {
     "name": "stdout",
     "output_type": "stream",
     "text": [
      "4 MSE cv : tensor(357.5923)\n"
     ]
    },
    {
     "name": "stderr",
     "output_type": "stream",
     "text": [
      "training_samples: 100%|█████████████████████████| 80/80 [00:51<00:00,  1.57it/s]\n"
     ]
    },
    {
     "name": "stdout",
     "output_type": "stream",
     "text": [
      "4 MSE Training : tensor(389.9815)\n"
     ]
    },
    {
     "name": "stderr",
     "output_type": "stream",
     "text": [
      "validation: 100%|███████████████████████████████| 20/20 [00:12<00:00,  1.54it/s]\n"
     ]
    },
    {
     "name": "stdout",
     "output_type": "stream",
     "text": [
      "5 MSE cv : tensor(332.6546)\n"
     ]
    },
    {
     "name": "stderr",
     "output_type": "stream",
     "text": [
      "training_samples: 100%|█████████████████████████| 80/80 [00:51<00:00,  1.57it/s]\n"
     ]
    },
    {
     "name": "stdout",
     "output_type": "stream",
     "text": [
      "5 MSE Training : tensor(369.5156)\n"
     ]
    },
    {
     "name": "stderr",
     "output_type": "stream",
     "text": [
      "validation: 100%|███████████████████████████████| 20/20 [00:12<00:00,  1.56it/s]\n"
     ]
    },
    {
     "name": "stdout",
     "output_type": "stream",
     "text": [
      "6 MSE cv : tensor(307.8499)\n"
     ]
    },
    {
     "name": "stderr",
     "output_type": "stream",
     "text": [
      "training_samples: 100%|█████████████████████████| 80/80 [00:50<00:00,  1.58it/s]\n"
     ]
    },
    {
     "name": "stdout",
     "output_type": "stream",
     "text": [
      "6 MSE Training : tensor(346.9990)\n"
     ]
    },
    {
     "name": "stderr",
     "output_type": "stream",
     "text": [
      "validation: 100%|███████████████████████████████| 20/20 [00:13<00:00,  1.51it/s]\n"
     ]
    },
    {
     "name": "stdout",
     "output_type": "stream",
     "text": [
      "7 MSE cv : tensor(286.6531)\n"
     ]
    },
    {
     "name": "stderr",
     "output_type": "stream",
     "text": [
      "training_samples: 100%|█████████████████████████| 80/80 [00:52<00:00,  1.53it/s]\n"
     ]
    },
    {
     "name": "stdout",
     "output_type": "stream",
     "text": [
      "7 MSE Training : tensor(326.4430)\n"
     ]
    },
    {
     "name": "stderr",
     "output_type": "stream",
     "text": [
      "validation: 100%|███████████████████████████████| 20/20 [00:13<00:00,  1.53it/s]\n"
     ]
    },
    {
     "name": "stdout",
     "output_type": "stream",
     "text": [
      "8 MSE cv : tensor(280.3004)\n"
     ]
    },
    {
     "name": "stderr",
     "output_type": "stream",
     "text": [
      "training_samples: 100%|█████████████████████████| 80/80 [00:51<00:00,  1.55it/s]\n"
     ]
    },
    {
     "name": "stdout",
     "output_type": "stream",
     "text": [
      "8 MSE Training : tensor(315.9062)\n"
     ]
    },
    {
     "name": "stderr",
     "output_type": "stream",
     "text": [
      "validation: 100%|███████████████████████████████| 20/20 [00:12<00:00,  1.56it/s]\n"
     ]
    },
    {
     "name": "stdout",
     "output_type": "stream",
     "text": [
      "9 MSE cv : tensor(311.7902)\n"
     ]
    },
    {
     "name": "stderr",
     "output_type": "stream",
     "text": [
      "training_samples: 100%|█████████████████████████| 80/80 [00:50<00:00,  1.58it/s]\n"
     ]
    },
    {
     "name": "stdout",
     "output_type": "stream",
     "text": [
      "9 MSE Training : tensor(343.2500)\n"
     ]
    },
    {
     "name": "stderr",
     "output_type": "stream",
     "text": [
      "validation: 100%|███████████████████████████████| 20/20 [00:12<00:00,  1.55it/s]\n"
     ]
    },
    {
     "name": "stdout",
     "output_type": "stream",
     "text": [
      "10 MSE cv : tensor(601.3560)\n"
     ]
    },
    {
     "name": "stderr",
     "output_type": "stream",
     "text": [
      "training_samples: 100%|█████████████████████████| 80/80 [00:51<00:00,  1.56it/s]\n"
     ]
    },
    {
     "name": "stdout",
     "output_type": "stream",
     "text": [
      "10 MSE Training : tensor(644.1444)\n"
     ]
    },
    {
     "name": "stderr",
     "output_type": "stream",
     "text": [
      "validation: 100%|███████████████████████████████| 20/20 [00:12<00:00,  1.55it/s]\n"
     ]
    },
    {
     "name": "stdout",
     "output_type": "stream",
     "text": [
      "11 MSE cv : tensor(1758.4124)\n"
     ]
    },
    {
     "name": "stderr",
     "output_type": "stream",
     "text": [
      "training_samples: 100%|█████████████████████████| 80/80 [00:51<00:00,  1.55it/s]\n"
     ]
    },
    {
     "name": "stdout",
     "output_type": "stream",
     "text": [
      "11 MSE Training : tensor(1788.1432)\n"
     ]
    },
    {
     "name": "stderr",
     "output_type": "stream",
     "text": [
      "validation: 100%|███████████████████████████████| 20/20 [00:13<00:00,  1.51it/s]\n"
     ]
    },
    {
     "name": "stdout",
     "output_type": "stream",
     "text": [
      "12 MSE cv : tensor(687.6232)\n"
     ]
    },
    {
     "name": "stderr",
     "output_type": "stream",
     "text": [
      "training_samples: 100%|█████████████████████████| 80/80 [00:51<00:00,  1.54it/s]\n"
     ]
    },
    {
     "name": "stdout",
     "output_type": "stream",
     "text": [
      "12 MSE Training : tensor(711.0818)\n"
     ]
    },
    {
     "name": "stderr",
     "output_type": "stream",
     "text": [
      "validation: 100%|███████████████████████████████| 20/20 [00:12<00:00,  1.56it/s]\n"
     ]
    },
    {
     "name": "stdout",
     "output_type": "stream",
     "text": [
      "13 MSE cv : tensor(309.7451)\n"
     ]
    },
    {
     "name": "stderr",
     "output_type": "stream",
     "text": [
      "training_samples: 100%|█████████████████████████| 80/80 [00:51<00:00,  1.56it/s]\n"
     ]
    },
    {
     "name": "stdout",
     "output_type": "stream",
     "text": [
      "13 MSE Training : tensor(324.7992)\n"
     ]
    },
    {
     "name": "stderr",
     "output_type": "stream",
     "text": [
      "validation: 100%|███████████████████████████████| 20/20 [00:13<00:00,  1.53it/s]\n"
     ]
    },
    {
     "name": "stdout",
     "output_type": "stream",
     "text": [
      "14 MSE cv : tensor(235.7740)\n"
     ]
    },
    {
     "name": "stderr",
     "output_type": "stream",
     "text": [
      "training_samples: 100%|█████████████████████████| 80/80 [00:51<00:00,  1.56it/s]\n"
     ]
    },
    {
     "name": "stdout",
     "output_type": "stream",
     "text": [
      "14 MSE Training : tensor(241.9198)\n"
     ]
    },
    {
     "name": "stderr",
     "output_type": "stream",
     "text": [
      "validation: 100%|███████████████████████████████| 20/20 [00:12<00:00,  1.54it/s]\n"
     ]
    },
    {
     "name": "stdout",
     "output_type": "stream",
     "text": [
      "15 MSE cv : tensor(207.1562)\n"
     ]
    },
    {
     "name": "stderr",
     "output_type": "stream",
     "text": [
      "training_samples: 100%|█████████████████████████| 80/80 [00:51<00:00,  1.54it/s]\n"
     ]
    },
    {
     "name": "stdout",
     "output_type": "stream",
     "text": [
      "15 MSE Training : tensor(209.7975)\n"
     ]
    },
    {
     "name": "stderr",
     "output_type": "stream",
     "text": [
      "validation: 100%|███████████████████████████████| 20/20 [00:12<00:00,  1.56it/s]\n"
     ]
    },
    {
     "name": "stdout",
     "output_type": "stream",
     "text": [
      "16 MSE cv : tensor(190.5099)\n"
     ]
    },
    {
     "name": "stderr",
     "output_type": "stream",
     "text": [
      "training_samples: 100%|█████████████████████████| 80/80 [00:51<00:00,  1.56it/s]\n"
     ]
    },
    {
     "name": "stdout",
     "output_type": "stream",
     "text": [
      "16 MSE Training : tensor(191.1614)\n"
     ]
    },
    {
     "name": "stderr",
     "output_type": "stream",
     "text": [
      "validation: 100%|███████████████████████████████| 20/20 [00:12<00:00,  1.56it/s]\n"
     ]
    },
    {
     "name": "stdout",
     "output_type": "stream",
     "text": [
      "17 MSE cv : tensor(178.6852)\n"
     ]
    },
    {
     "name": "stderr",
     "output_type": "stream",
     "text": [
      "training_samples: 100%|█████████████████████████| 80/80 [00:51<00:00,  1.56it/s]\n"
     ]
    },
    {
     "name": "stdout",
     "output_type": "stream",
     "text": [
      "17 MSE Training : tensor(177.8524)\n"
     ]
    },
    {
     "name": "stderr",
     "output_type": "stream",
     "text": [
      "validation: 100%|███████████████████████████████| 20/20 [00:13<00:00,  1.54it/s]\n"
     ]
    },
    {
     "name": "stdout",
     "output_type": "stream",
     "text": [
      "18 MSE cv : tensor(169.4102)\n"
     ]
    },
    {
     "name": "stderr",
     "output_type": "stream",
     "text": [
      "training_samples: 100%|█████████████████████████| 80/80 [00:51<00:00,  1.54it/s]\n"
     ]
    },
    {
     "name": "stdout",
     "output_type": "stream",
     "text": [
      "18 MSE Training : tensor(167.1194)\n"
     ]
    },
    {
     "name": "stderr",
     "output_type": "stream",
     "text": [
      "validation: 100%|███████████████████████████████| 20/20 [00:13<00:00,  1.50it/s]\n"
     ]
    },
    {
     "name": "stdout",
     "output_type": "stream",
     "text": [
      "19 MSE cv : tensor(161.6102)\n"
     ]
    },
    {
     "name": "stderr",
     "output_type": "stream",
     "text": [
      "training_samples: 100%|█████████████████████████| 80/80 [00:51<00:00,  1.57it/s]\n"
     ]
    },
    {
     "name": "stdout",
     "output_type": "stream",
     "text": [
      "19 MSE Training : tensor(157.8721)\n"
     ]
    }
   ],
   "source": [
    "x_out_cv = torch.empty(N_CV,initGRU.m, initGRU.T)\n",
    "\n",
    "for i in range(N_Epochs):\n",
    "    # validation\n",
    "    for c in tqdm(range(0, N_CV),desc='validation'):\n",
    "        y_cv = y_training_cv[c, :, :]\n",
    "        kn.InitSequence(latent_states_t0_cv[c])\n",
    "\n",
    "        for t in range(0, initGRU.T):\n",
    "            x_out_cv[c,:, t] = kn(y_cv[t,:])\n",
    "\n",
    "        # Compute validation Loss\n",
    "        MSE_cv_linear_batch[c] = loss_fn(x_out_cv[c], cv_target[c, :].T).item()\n",
    "    # Average\n",
    "    MSE_cv_linear_epoch[i] = torch.mean(MSE_cv_linear_batch)\n",
    "    MSE_cv_dB_epoch[i] = 10 * torch.log10(MSE_cv_linear_epoch[i])\n",
    "    print(i, \"MSE cv :\", MSE_cv_linear_epoch[i])\n",
    "\n",
    "    # training\n",
    "    kn.train()\n",
    "    kn.init_hidden()\n",
    "    Batch_Optimizing_LOSS_sum = 0\n",
    "    spike_loss = torch.empty([train_samples,initGRU.T,initGRU.n])\n",
    "    for j in tqdm(range(0, N_B),desc='training_samples'):\n",
    "        if N_B == train_samples:\n",
    "            n_e = j\n",
    "        else:\n",
    "            n_e = random.randint(0, N_E - 1)\n",
    "        kn.InitSequence(latent_states_t0_train[n_e])\n",
    "\n",
    "        x_out_training = torch.empty(initGRU.m, initGRU.T)\n",
    "        \n",
    "        for t in range(0, T):\n",
    "            x_out_training[:, t] = kn(y_training[n_e,t,:])\n",
    "            spike_loss[n_e,t,:] = kn.m1y\n",
    "        # Compute Training Loss\n",
    "        LOSS = loss_fn(x_out_training, train_target[n_e].T)\n",
    "        MSE_train_linear_batch[n_e] = LOSS.item()\n",
    "\n",
    "        Batch_Optimizing_LOSS_sum = Batch_Optimizing_LOSS_sum + LOSS\n",
    "\n",
    "    MSE_train_linear_epoch[i] = torch.mean(MSE_train_linear_batch)\n",
    "    MSE_train_dB_epoch[i] = 10 * torch.log10(MSE_train_linear_epoch[i])\n",
    "\n",
    "    optimizer.zero_grad()\n",
    "    Batch_Optimizing_LOSS_mean = Batch_Optimizing_LOSS_sum / N_B\n",
    "    Batch_Optimizing_LOSS_mean.backward()\n",
    "    optimizer.step()\n",
    "    print(i, \"MSE Training :\", MSE_train_linear_epoch[i])"
   ]
  },
  {
   "cell_type": "code",
   "execution_count": null,
   "metadata": {},
   "outputs": [],
   "source": []
  },
  {
   "cell_type": "code",
   "execution_count": 17,
   "metadata": {},
   "outputs": [
    {
     "data": {
      "text/plain": [
       "[<matplotlib.lines.Line2D at 0x2b7b957d0>]"
      ]
     },
     "execution_count": 17,
     "metadata": {},
     "output_type": "execute_result"
    },
    {
     "data": {
      "image/png": "[encoded data removed]",
      "text/plain": [
       "<Figure size 640x480 with 1 Axes>"
      ]
     },
     "metadata": {},
     "output_type": "display_data"
    }
   ],
   "source": [
    "plt.plot(MSE_cv_linear_epoch[1:19])"
   ]
  },
  {
   "cell_type": "code",
   "execution_count": 18,
   "metadata": {},
   "outputs": [
    {
     "data": {
      "text/plain": [
       "torch.Size([20, 10, 20])"
      ]
     },
     "execution_count": 18,
     "metadata": {},
     "output_type": "execute_result"
    }
   ],
   "source": [
    "# output of validation set\n",
    "x_out_cv.shape"
   ]
  },
  {
   "cell_type": "code",
   "execution_count": 19,
   "metadata": {},
   "outputs": [
    {
     "data": {
      "text/plain": [
       "19.996618"
      ]
     },
     "execution_count": 19,
     "metadata": {},
     "output_type": "execute_result"
    }
   ],
   "source": [
    "# RMSE for training spikes : lastest epoch\n",
    "np.sqrt(np.mean((spike_loss.detach() - y_training).numpy() ** 2)) "
   ]
  },
  {
   "cell_type": "code",
   "execution_count": null,
   "metadata": {},
   "outputs": [],
   "source": []
  }
 ],
 "metadata": {
  "kernelspec": {
   "display_name": "Python 3 (ipykernel)",
   "language": "python",
   "name": "python3"
  },
  "language_info": {
   "codemirror_mode": {
    "name": "ipython",
    "version": 3
   },
   "file_extension": ".py",
   "mimetype": "text/x-python",
   "name": "python",
   "nbconvert_exporter": "python",
   "pygments_lexer": "ipython3",
   "version": "3.11.5"
  }
 },
 "nbformat": 4,
 "nbformat_minor": 2
}
